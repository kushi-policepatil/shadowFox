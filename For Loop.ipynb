{
  "metadata": {
    "kernelspec": {
      "name": "xpython",
      "display_name": "Python 3.13 (XPython)",
      "language": "python"
    },
    "language_info": {
      "file_extension": ".py",
      "mimetype": "text/x-python",
      "name": "python",
      "version": "3.13.1"
    }
  },
  "nbformat_minor": 5,
  "nbformat": 4,
  "cells": [
    {
      "id": "34cb6fa1-d97d-4fa2-b89d-2d394c8384b5",
      "cell_type": "code",
      "source": "#1. Using a for loop, simulate rolling a sixsided die multiple times (at least 20times). Count and print the following statistics: How many times you rolled a 6 How many times you rolled a 1 How many times you rolled two 6s in a row\n\nimport random\n\n# Number of times to roll the die\nnum_rolls = 30  # You can increase this number if you want\n\n# Initialize counters\ncount_6 = 0\ncount_1 = 0\ncount_two_6s_in_row = 0\n\n# Keep track of the previous roll\nprev_roll = 0\n\n# Simulate rolling the die\nfor _ in range(num_rolls):\n    roll = random.randint(1, 6)\n    print(f\"Rolled: {roll}\")\n    \n    if roll == 6:\n        count_6 += 1\n    if roll == 1:\n        count_1 += 1\n    if roll == 6 and prev_roll == 6:\n        count_two_6s_in_row += 1\n    \n    prev_roll = roll  # Update previous roll\n\n# Print results\nprint(\"\\nStatistics:\")\nprint(f\"Total rolls: {num_rolls}\")\nprint(f\"Number of times 6 was rolled: {count_6}\")\nprint(f\"Number of times 1 was rolled: {count_1}\")\nprint(f\"Number of times two 6s were rolled in a row: {count_two_6s_in_row}\")\n",
      "metadata": {
        "trusted": true
      },
      "outputs": [
        {
          "name": "stdout",
          "output_type": "stream",
          "text": "Rolled: 1\nRolled: 5\nRolled: 4\nRolled: 2\nRolled: 1\nRolled: 3\nRolled: 6\nRolled: 4\nRolled: 6\nRolled: 3\nRolled: 2\nRolled: 6\nRolled: 4\nRolled: 2\nRolled: 6\nRolled: 6\nRolled: 3\nRolled: 2\nRolled: 3\nRolled: 1\nRolled: 1\nRolled: 2\nRolled: 4\nRolled: 1\nRolled: 1\nRolled: 5\nRolled: 5\nRolled: 6\nRolled: 2\nRolled: 1\n\nStatistics:\nTotal rolls: 30\nNumber of times 6 was rolled: 6\nNumber of times 1 was rolled: 7\nNumber of times two 6s were rolled in a row: 1\n"
        }
      ],
      "execution_count": 1
    },
    {
      "id": "7b8e7600-ba78-4c25-b2e8-b3ded411707e",
      "cell_type": "code",
      "source": "#2. Imagine you are doing a workout routine, and you have to complete 100jumping jacks. Write a program that: Asks you to perform 10 jumping jacks at a time. After each set, it asks, \"Are you tired?\" \n\n\ntotal_jumping_jacks = 100\njumping_jacks_done = 0\nset_size = 10\n\nwhile jumping_jacks_done < total_jumping_jacks:\n    jumping_jacks_done += set_size\n    print(f\"\\nYou did {set_size} jumping jacks.\")\n\n    if jumping_jacks_done >= total_jumping_jacks:\n        print(\"Congratulations! You completed the workout.\")\n        break\n\n    # Ask if the user is tired\n    tired = input(\"Are you tired? (yes/no): \").strip().lower()\n\n    if tired in ['yes', 'y']:\n        skip = input(\"Do you want to skip the remaining sets? (yes/no): \").strip().lower()\n        if skip in ['yes', 'y']:\n            print(f\"You completed a total of {jumping_jacks_done} jumping jacks.\")\n            break\n        else:\n            print(f\"{total_jumping_jacks - jumping_jacks_done} jumping jacks remaining.\")\n    elif tired in ['no', 'n']:\n        print(f\"{total_jumping_jacks - jumping_jacks_done} jumping jacks remaining.\")\n    else:\n        print(\"Invalid input. Assuming you're not tired and continuing.\")\n        print(f\"{total_jumping_jacks - jumping_jacks_done} jumping jacks remaining.\")\n",
      "metadata": {
        "trusted": true
      },
      "outputs": [
        {
          "name": "stdout",
          "output_type": "stream",
          "text": "\nYou did 10 jumping jacks.\n"
        },
        {
          "output_type": "stream",
          "name": "stdin",
          "text": "Are you tired? (yes/no):  yes\nDo you want to skip the remaining sets? (yes/no):  no\n"
        },
        {
          "name": "stdout",
          "output_type": "stream",
          "text": "90 jumping jacks remaining.\n\nYou did 10 jumping jacks.\n"
        },
        {
          "output_type": "stream",
          "name": "stdin",
          "text": "Are you tired? (yes/no):  yes\nDo you want to skip the remaining sets? (yes/no):  yes\n"
        },
        {
          "name": "stdout",
          "output_type": "stream",
          "text": "You completed a total of 20 jumping jacks.\n"
        }
      ],
      "execution_count": 2
    },
    {
      "id": "4116339e-1ed1-4ed0-bd51-0ad9f8f9c10c",
      "cell_type": "code",
      "source": "",
      "metadata": {
        "trusted": true
      },
      "outputs": [],
      "execution_count": null
    }
  ]
}