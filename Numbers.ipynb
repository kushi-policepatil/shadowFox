{
  "metadata": {
    "kernelspec": {
      "name": "xpython",
      "display_name": "Python 3.13 (XPython)",
      "language": "python"
    },
    "language_info": {
      "file_extension": ".py",
      "mimetype": "text/x-python",
      "name": "python",
      "version": "3.13.1"
    }
  },
  "nbformat_minor": 5,
  "nbformat": 4,
  "cells": [
    {
      "id": "aa98cd98-9653-430f-b122-85c27f641bff",
      "cell_type": "code",
      "source": "def format_value(value, format_type):\n    result = format(value, format_type)\n    return result\n\n# Call the function\nformatted_output = format_value(145, 'o')\nprint(\"Formatted result:\", formatted_output)\n",
      "metadata": {
        "trusted": true
      },
      "outputs": [
        {
          "name": "stdout",
          "output_type": "stream",
          "text": "Formatted result: 221\n"
        }
      ],
      "execution_count": 1
    },
    {
      "id": "fc488ad1-6086-482d-ba8f-f3753a6223a7",
      "cell_type": "code",
      "source": "# Given values\nradius = 84  # in meters\npi = 3.14\nwater_per_sqm = 1.4  # liters per square meter\n\n# Calculate area of the pond\narea = pi * radius ** 2\n\n# Calculate total water (in liters)\ntotal_water = area * water_per_sqm\n\n# Print result without decimals\nprint(\"Total water in the pond (liters):\", int(total_water))\n",
      "metadata": {
        "trusted": true
      },
      "outputs": [
        {
          "name": "stdout",
          "output_type": "stream",
          "text": "Total water in the pond (liters): 31018\n"
        }
      ],
      "execution_count": 2
    },
    {
      "id": "caeb846b-3e4d-4b38-9c8d-7e1ba21ad6f2",
      "cell_type": "code",
      "source": "# Given values\ndistance = 490  # in meters\ntime_minutes = 7\ntime_seconds = time_minutes * 60  # convert to seconds\n\n# Calculate speed in meters/second\nspeed = distance / time_seconds\n\n# Print speed without decimal point\nprint(\"Speed (m/s):\", int(speed))\n",
      "metadata": {
        "trusted": true
      },
      "outputs": [
        {
          "name": "stdout",
          "output_type": "stream",
          "text": "Speed (m/s): 1\n"
        }
      ],
      "execution_count": 3
    },
    {
      "id": "fbdd647e-acfb-41b5-bfc4-10ed1bb415fa",
      "cell_type": "code",
      "source": "",
      "metadata": {
        "trusted": true
      },
      "outputs": [],
      "execution_count": null
    }
  ]
}