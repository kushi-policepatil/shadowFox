{
  "cells": [
    {
      "cell_type": "code",
      "execution_count": null,
      "id": "9ead8dcf-f4c5-45e4-a947-355a30c0663d",
      "metadata": {
        "editable": true,
        "slideshow": {
          "slide_type": ""
        },
        "tags": [],
        "trusted": true
      },
      "outputs": [
        {
          "name": "stdout",
          "output_type": "stream",
          "text": [
            "Value of pi: 3.142857142857143\n",
            "Data type of pi: <class 'float'>\n"
          ]
        }
      ],
      "source": [
        "pi = 22 / 7\n",
        "print(\"Value of pi:\", pi)\n",
        "print(\"Data type of pi:\", type(pi))\n"
      ]
    },
    {
      "cell_type": "code",
      "execution_count": null,
      "id": "a7a50ebc-38a8-4b8e-8e0d-e9c857040de1",
      "metadata": {
        "editable": true,
        "slideshow": {
          "slide_type": ""
        },
        "tags": [],
        "trusted": true
      },
      "outputs": [
        {
          "name": "stdout",
          "output_type": "stream",
          "text": [
            "4\n"
          ]
        }
      ],
      "source": [
        "for_value = 4\n",
        "print(for_value)"
      ]
    },
    {
      "cell_type": "code",
      "execution_count": null,
      "id": "251432ac-1d9c-4461-a585-153889e9a1fc",
      "metadata": {
        "editable": true,
        "slideshow": {
          "slide_type": ""
        },
        "tags": [],
        "trusted": true
      },
      "outputs": [
        {
          "name": "stdout",
          "output_type": "stream",
          "text": [
            "Simple Interest for 3 years is: 1500.0\n"
          ]
        }
      ],
      "source": [
        "# Store values\n",
        "principal = 10000  # Principal amount in rupees\n",
        "rate = 5           # Rate of interest per annum\n",
        "time = 3           # Time in years\n",
        "\n",
        "# Calculate Simple Interest\n",
        "simple_interest = (principal * rate * time) / 100\n",
        "\n",
        "# Print the result\n",
        "print(\"Simple Interest for 3 years is:\", simple_interest)\n"
      ]
    },
    {
      "cell_type": "code",
      "execution_count": null,
      "id": "95ffe99d-e149-49fd-8565-faa5a2cfad12",
      "metadata": {
        "editable": true,
        "slideshow": {
          "slide_type": ""
        },
        "tags": [],
        "trusted": true
      },
      "outputs": [],
      "source": []
    }
  ],
  "metadata": {
    "kernelspec": {
      "display_name": "Python 3.13 (XPython)",
      "language": "python",
      "name": "xpython"
    },
    "language_info": {
      "file_extension": ".py",
      "mimetype": "text/x-python",
      "name": "python",
      "version": "3.13.1"
    }
  },
  "nbformat": 4,
  "nbformat_minor": 5
}
