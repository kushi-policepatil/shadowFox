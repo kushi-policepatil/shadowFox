{
  "metadata": {
    "kernelspec": {
      "name": "xpython",
      "display_name": "Python 3.13 (XPython)",
      "language": "python"
    },
    "language_info": {
      "file_extension": ".py",
      "mimetype": "text/x-python",
      "name": "python",
      "version": "3.13.1"
    }
  },
  "nbformat_minor": 5,
  "nbformat": 4,
  "cells": [
    {
      "id": "d48f60d7-7f18-4076-b9e9-249f09e371ce",
      "cell_type": "code",
      "source": "import random\n\n# Word list with hints\nwords_with_hints = {\n    \"python\": \"A popular programming language.\",\n    \"elephant\": \"The largest land animal.\",\n    \"guitar\": \"A musical instrument with strings.\",\n    \"moon\": \"Earth's natural satellite.\",\n    \"pizza\": \"A popular Italian dish with cheese.\"\n}\n\n# Choose a random word and its hint\nword, hint = random.choice(list(words_with_hints.items()))\nguessed = [\"_\"] * len(word)\ntries = 6\nused_letters = []\n\nprint(\"Welcome to Hangman!\")\nprint(f\"Hint: {hint}\")\n\nwhile tries > 0 and \"_\" in guessed:\n    print(\"\\nWord: \" + \" \".join(guessed))\n    print(f\"Used letters: {', '.join(used_letters)}\")\n    print(f\"Tries left: {tries}\")\n    \n    guess = input(\"Guess a letter: \").lower()\n    \n    if not guess.isalpha() or len(guess) != 1:\n        print(\"Please enter a single alphabet letter.\")\n        continue\n    \n    if guess in used_letters:\n        print(\"You already used that letter.\")\n        continue\n\n    used_letters.append(guess)\n    \n    if guess in word:\n        for i, letter in enumerate(word):\n            if letter == guess:\n                guessed[i] = guess\n        print(\"Good guess!\")\n    else:\n        tries -= 1\n        print(\"Wrong guess!\")\n\nif \"_\" not in guessed:\n    print(f\"\\nCongratulations! You guessed the word: {word}\")\nelse:\n    print(f\"\\nGame Over! The word was: {word}\")",
      "metadata": {
        "trusted": true
      },
      "outputs": [
        {
          "name": "stdout",
          "output_type": "stream",
          "text": "Welcome to Hangman!\nHint: A musical instrument with strings.\n\nWord: _ _ _ _ _ _\nUsed letters: \nTries left: 6\n"
        },
        {
          "output_type": "stream",
          "name": "stdin",
          "text": "Guess a letter:  w\n"
        },
        {
          "name": "stdout",
          "output_type": "stream",
          "text": "Wrong guess!\n\nWord: _ _ _ _ _ _\nUsed letters: w\nTries left: 5\n"
        },
        {
          "output_type": "stream",
          "name": "stdin",
          "text": "Guess a letter:  e\n"
        },
        {
          "name": "stdout",
          "output_type": "stream",
          "text": "Wrong guess!\n\nWord: _ _ _ _ _ _\nUsed letters: w, e\nTries left: 4\n"
        },
        {
          "output_type": "stream",
          "name": "stdin",
          "text": "Guess a letter:  g\n"
        },
        {
          "name": "stdout",
          "output_type": "stream",
          "text": "Good guess!\n\nWord: g _ _ _ _ _\nUsed letters: w, e, g\nTries left: 4\n"
        },
        {
          "output_type": "stream",
          "name": "stdin",
          "text": "Guess a letter:  g\n"
        },
        {
          "name": "stdout",
          "output_type": "stream",
          "text": "You already used that letter.\n\nWord: g _ _ _ _ _\nUsed letters: w, e, g\nTries left: 4\n"
        },
        {
          "output_type": "stream",
          "name": "stdin",
          "text": "Guess a letter:  w\n"
        },
        {
          "name": "stdout",
          "output_type": "stream",
          "text": "You already used that letter.\n\nWord: g _ _ _ _ _\nUsed letters: w, e, g\nTries left: 4\n"
        },
        {
          "output_type": "stream",
          "name": "stdin",
          "text": "Guess a letter:  e\n"
        },
        {
          "name": "stdout",
          "output_type": "stream",
          "text": "You already used that letter.\n\nWord: g _ _ _ _ _\nUsed letters: w, e, g\nTries left: 4\n"
        },
        {
          "output_type": "stream",
          "name": "stdin",
          "text": "Guess a letter:  u\n"
        },
        {
          "name": "stdout",
          "output_type": "stream",
          "text": "Good guess!\n\nWord: g u _ _ _ _\nUsed letters: w, e, g, u\nTries left: 4\n"
        },
        {
          "output_type": "stream",
          "name": "stdin",
          "text": "Guess a letter:  i\n"
        },
        {
          "name": "stdout",
          "output_type": "stream",
          "text": "Good guess!\n\nWord: g u i _ _ _\nUsed letters: w, e, g, u, i\nTries left: 4\n"
        }
      ],
      "execution_count": null
    },
    {
      "id": "3607ec7d-996b-4c69-a503-7be5f34f9389",
      "cell_type": "code",
      "source": "",
      "metadata": {
        "trusted": true
      },
      "outputs": [],
      "execution_count": null
    }
  ]
}