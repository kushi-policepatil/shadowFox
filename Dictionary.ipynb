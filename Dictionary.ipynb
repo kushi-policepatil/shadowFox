{
  "metadata": {
    "kernelspec": {
      "name": "xpython",
      "display_name": "Python 3.13 (XPython)",
      "language": "python"
    },
    "language_info": {
      "file_extension": ".py",
      "mimetype": "text/x-python",
      "name": "python",
      "version": "3.13.1"
    }
  },
  "nbformat_minor": 5,
  "nbformat": 4,
  "cells": [
    {
      "id": "a00177ab-b9a4-47d8-b39a-6390c04bac03",
      "cell_type": "code",
      "source": "#1. Create a list of your friends' names. The list should have at least 5 names.Create a list of tuples. Each tuple should contain a friend's name and the lengthof the name. For example, if someone’s name is Aditya, the tuple would be: ('Aditya', 6)\n\n# Step 1: List of friends' names\nfriends = [\"Aditya\", \"Sneha\", \"Rahul\", \"Priya\", \"Karan\"]\n\n# Step 2: Create list of tuples (name, length of name)\nname_lengths = [(name, len(name)) for name in friends]\n\n# Print the result\nprint(\"List of (Name, Length) tuples:\")\nprint(name_lengths)\n",
      "metadata": {
        "trusted": true
      },
      "outputs": [
        {
          "name": "stdout",
          "output_type": "stream",
          "text": "List of (Name, Length) tuples:\n[('Aditya', 6), ('Sneha', 5), ('Rahul', 5), ('Priya', 5), ('Karan', 5)]\n"
        }
      ],
      "execution_count": 1
    },
    {
      "id": "8abea4bd-91ed-4791-971d-2b212396cf9e",
      "cell_type": "code",
      "source": "#2.You and your partner are planning a trip, and you want to track expenses.Create two dictionaries, one for your expenses and one for your partner's expenses. Each dictionary should contain at least 5 expense categories and their corresponding amounts\n\n# Your expenses\nyour_expenses = {\n    \"Hotel\": 1200,\n    \"Food\": 800,\n    \"Transportation\": 500,\n    \"Attractions\": 300,\n    \"Miscellaneous\": 200\n}\n\n# Partner's expenses\npartner_expenses = {\n    \"Hotel\": 1000,\n    \"Food\": 900,\n    \"Transportation\": 600,\n    \"Attractions\": 400,\n    \"Miscellaneous\": 150\n}\n\n# Calculate total expenses\nyour_total = sum(your_expenses.values())\npartner_total = sum(partner_expenses.values())\n\n# Print totals\nprint(f\"Your total expenses: ₹{your_total}\")\nprint(f\"Partner's total expenses: ₹{partner_total}\")\n\n# Compare totals\nif your_total > partner_total:\n    print(\"You spent more than your partner.\")\nelif your_total < partner_total:\n    print(\"Your partner spent more than you.\")\nelse:\n    print(\"Both spent the same.\")\n\n# Find significant differences (≥ ₹100)\nprint(\"\\nSignificant spending differences (≥ ₹100):\")\nfor category in your_expenses:\n    diff = abs(your_expenses[category] - partner_expenses[category])\n    if diff >= 100:\n        print(f\"Category: {category}, Difference: ₹{diff}\")\n",
      "metadata": {
        "trusted": true
      },
      "outputs": [
        {
          "name": "stdout",
          "output_type": "stream",
          "text": "Your total expenses: ₹3000\nPartner's total expenses: ₹3050\nYour partner spent more than you.\n\nSignificant spending differences (≥ ₹100):\nCategory: Hotel, Difference: ₹200\nCategory: Food, Difference: ₹100\nCategory: Transportation, Difference: ₹100\nCategory: Attractions, Difference: ₹100\n"
        }
      ],
      "execution_count": 2
    },
    {
      "id": "afe40a46-120a-4d79-92fc-819332c56cfd",
      "cell_type": "code",
      "source": "",
      "metadata": {
        "trusted": true
      },
      "outputs": [],
      "execution_count": null
    }
  ]
}