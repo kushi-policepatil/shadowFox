{
  "metadata": {
    "kernelspec": {
      "name": "xpython",
      "display_name": "Python 3.13 (XPython)",
      "language": "python"
    },
    "language_info": {
      "file_extension": ".py",
      "mimetype": "text/x-python",
      "name": "python",
      "version": "3.13.1"
    }
  },
  "nbformat_minor": 5,
  "nbformat": 4,
  "cells": [
    {
      "id": "cf37854a-03c2-409a-9f2b-9a2c769c2b6f",
      "cell_type": "code",
      "source": "#1. Write a program to determine the BMI Category based on user input. Ask the user to: Enter height in meters Enter weight in kilograms Calculate BMI using the formula: BMI = weight / (height)2 \n\n# Ask user for input\nheight = float(input(\"Enter height in meters: \"))\nweight = float(input(\"Enter weight in kilograms: \"))\n\n# Calculate BMI\nbmi = weight / (height ** 2)\n\n# Determine BMI category\nif bmi >= 30:\n    category = \"Obesity\"\nelif 25 <= bmi < 30:\n    category = \"Overweight\"\nelif 18.5 <= bmi < 25:\n    category = \"Normal\"\nelse:\n    category = \"Underweight\"\n\n# Print result\nprint(f\"BMI: {bmi:.2f}\")\nprint(\"Category:\", category)\n",
      "metadata": {
        "trusted": true
      },
      "outputs": [
        {
          "output_type": "stream",
          "name": "stdin",
          "text": "Enter height in meters:  1.75\nEnter weight in kilograms:  75\n"
        },
        {
          "name": "stdout",
          "output_type": "stream",
          "text": "BMI: 24.49\nCategory: Normal\n"
        }
      ],
      "execution_count": 1
    },
    {
      "id": "943d0c82-f4f2-4e62-b54d-bb6874eb22e4",
      "cell_type": "code",
      "source": "# Country-city mapping\ncountries = {\n    \"Australia\": [\"Sydney\", \"Melbourne\", \"Brisbane\", \"Perth\"],\n    \"UAE\": [\"Dubai\", \"Abu Dhabi\", \"Sharjah\", \"Ajman\"],\n    \"India\": [\"Mumbai\", \"Bangalore\", \"Chennai\", \"Delhi\"]\n}\n\n# Get user input\ncity = input(\"Enter a city name: \").strip()\n\n# Flag to check if city is found\nfound = False\n\n# Search the city in each country's city list\nfor country, cities in countries.items():\n    if city in cities:\n        print(f\"{city} is in {country}\")\n        found = True\n        break\n\nif not found:\n    print(f\"Sorry, the city '{city}' was not found in our list.\")\n",
      "metadata": {
        "trusted": true
      },
      "outputs": [
        {
          "output_type": "stream",
          "name": "stdin",
          "text": "Enter a city name:  Abu Dhabi\n"
        },
        {
          "name": "stdout",
          "output_type": "stream",
          "text": "Abu Dhabi is in UAE\n"
        }
      ],
      "execution_count": 2
    },
    {
      "id": "c1edd715-b76d-43f6-808f-2b4a855f41b2",
      "cell_type": "code",
      "source": "#3. Write a program to check if two cities belong to the same country.Ask the user to enter two cities and print whether they belong to thesame country or not. \n\n# Dictionary with countries and their cities\ncountries = {\n    \"Australia\": [\"Sydney\", \"Melbourne\", \"Brisbane\", \"Perth\"],\n    \"UAE\": [\"Dubai\", \"Abu Dhabi\", \"Sharjah\", \"Ajman\"],\n    \"India\": [\"Mumbai\", \"Bangalore\", \"Chennai\", \"Delhi\"]\n}\n\n# Function to find country of a given city\ndef get_country(city):\n    for country, cities in countries.items():\n        if city in cities:\n            return country\n    return None\n\n# Get user input\ncity1 = input(\"Enter the first city: \").strip()\ncity2 = input(\"Enter the second city: \").strip()\n\n# Find which countries they belong to\ncountry1 = get_country(city1)\ncountry2 = get_country(city2)\n\n# Compare results\nif country1 and country2:\n    if country1 == country2:\n        print(f\"Both cities are in {country1}\")\n    else:\n        print(\"They don't belong to the same country\")\nelse:\n    print(\"One or both cities are not in the list\")\n",
      "metadata": {
        "trusted": true
      },
      "outputs": [
        {
          "output_type": "stream",
          "name": "stdin",
          "text": "Enter the first city:  Mumbai\nEnter the second city:  Chennai\n"
        },
        {
          "name": "stdout",
          "output_type": "stream",
          "text": "Both cities are in India\n"
        }
      ],
      "execution_count": 3
    },
    {
      "id": "aa6eb19d-7b1c-46f9-9198-2473018eed3d",
      "cell_type": "code",
      "source": "",
      "metadata": {
        "trusted": true
      },
      "outputs": [],
      "execution_count": null
    }
  ]
}